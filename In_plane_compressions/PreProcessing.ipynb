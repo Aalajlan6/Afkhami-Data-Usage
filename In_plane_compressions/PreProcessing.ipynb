{
 "cells": [
  {
   "cell_type": "code",
   "execution_count": 172,
   "id": "fd71c68d-c2cd-4c9f-8fc0-f8858216eb5e",
   "metadata": {},
   "outputs": [],
   "source": [
    "import warnings\n",
    "warnings.filterwarnings('ignore')"
   ]
  },
  {
   "cell_type": "markdown",
   "id": "fd9283f3-3830-495e-90d1-ab42a1080bf8",
   "metadata": {},
   "source": [
    "## Cleaning, Combining, and Labeling Direction and Design"
   ]
  },
  {
   "cell_type": "code",
   "execution_count": 201,
   "id": "692353aa-2575-4610-82c8-9480a118f54a",
   "metadata": {},
   "outputs": [
    {
     "data": {
      "text/html": [
       "<div>\n",
       "<style scoped>\n",
       "    .dataframe tbody tr th:only-of-type {\n",
       "        vertical-align: middle;\n",
       "    }\n",
       "\n",
       "    .dataframe tbody tr th {\n",
       "        vertical-align: top;\n",
       "    }\n",
       "\n",
       "    .dataframe thead th {\n",
       "        text-align: right;\n",
       "    }\n",
       "</style>\n",
       "<table border=\"1\" class=\"dataframe\">\n",
       "  <thead>\n",
       "    <tr style=\"text-align: right;\">\n",
       "      <th></th>\n",
       "      <th>Force</th>\n",
       "      <th>Displacement</th>\n",
       "      <th>Design</th>\n",
       "      <th>Direction</th>\n",
       "      <th>Displacement Rate</th>\n",
       "    </tr>\n",
       "  </thead>\n",
       "  <tbody>\n",
       "    <tr>\n",
       "      <th>0</th>\n",
       "      <td>0.000064</td>\n",
       "      <td>-0.000149</td>\n",
       "      <td>A</td>\n",
       "      <td>X</td>\n",
       "      <td>0.1</td>\n",
       "    </tr>\n",
       "    <tr>\n",
       "      <th>1</th>\n",
       "      <td>-0.000355</td>\n",
       "      <td>-0.000122</td>\n",
       "      <td>A</td>\n",
       "      <td>X</td>\n",
       "      <td>0.1</td>\n",
       "    </tr>\n",
       "    <tr>\n",
       "      <th>2</th>\n",
       "      <td>0.004733</td>\n",
       "      <td>-0.000355</td>\n",
       "      <td>A</td>\n",
       "      <td>X</td>\n",
       "      <td>0.1</td>\n",
       "    </tr>\n",
       "    <tr>\n",
       "      <th>3</th>\n",
       "      <td>-0.001949</td>\n",
       "      <td>-0.000374</td>\n",
       "      <td>A</td>\n",
       "      <td>X</td>\n",
       "      <td>0.1</td>\n",
       "    </tr>\n",
       "    <tr>\n",
       "      <th>4</th>\n",
       "      <td>0.003855</td>\n",
       "      <td>-0.000237</td>\n",
       "      <td>A</td>\n",
       "      <td>X</td>\n",
       "      <td>0.1</td>\n",
       "    </tr>\n",
       "    <tr>\n",
       "      <th>...</th>\n",
       "      <td>...</td>\n",
       "      <td>...</td>\n",
       "      <td>...</td>\n",
       "      <td>...</td>\n",
       "      <td>...</td>\n",
       "    </tr>\n",
       "    <tr>\n",
       "      <th>108737</th>\n",
       "      <td>-190.590100</td>\n",
       "      <td>-26.780952</td>\n",
       "      <td>F</td>\n",
       "      <td>Y</td>\n",
       "      <td>1.8</td>\n",
       "    </tr>\n",
       "    <tr>\n",
       "      <th>108738</th>\n",
       "      <td>-190.616900</td>\n",
       "      <td>-26.782848</td>\n",
       "      <td>F</td>\n",
       "      <td>Y</td>\n",
       "      <td>1.8</td>\n",
       "    </tr>\n",
       "    <tr>\n",
       "      <th>108739</th>\n",
       "      <td>-190.604340</td>\n",
       "      <td>-26.783546</td>\n",
       "      <td>F</td>\n",
       "      <td>Y</td>\n",
       "      <td>1.8</td>\n",
       "    </tr>\n",
       "    <tr>\n",
       "      <th>108740</th>\n",
       "      <td>-190.614870</td>\n",
       "      <td>-26.785297</td>\n",
       "      <td>F</td>\n",
       "      <td>Y</td>\n",
       "      <td>1.8</td>\n",
       "    </tr>\n",
       "    <tr>\n",
       "      <th>108741</th>\n",
       "      <td>-190.608400</td>\n",
       "      <td>-26.783356</td>\n",
       "      <td>F</td>\n",
       "      <td>Y</td>\n",
       "      <td>1.8</td>\n",
       "    </tr>\n",
       "  </tbody>\n",
       "</table>\n",
       "<p>108742 rows × 5 columns</p>\n",
       "</div>"
      ],
      "text/plain": [
       "             Force  Displacement Design Direction Displacement Rate\n",
       "0         0.000064     -0.000149      A         X               0.1\n",
       "1        -0.000355     -0.000122      A         X               0.1\n",
       "2         0.004733     -0.000355      A         X               0.1\n",
       "3        -0.001949     -0.000374      A         X               0.1\n",
       "4         0.003855     -0.000237      A         X               0.1\n",
       "...            ...           ...    ...       ...               ...\n",
       "108737 -190.590100    -26.780952      F         Y               1.8\n",
       "108738 -190.616900    -26.782848      F         Y               1.8\n",
       "108739 -190.604340    -26.783546      F         Y               1.8\n",
       "108740 -190.614870    -26.785297      F         Y               1.8\n",
       "108741 -190.608400    -26.783356      F         Y               1.8\n",
       "\n",
       "[108742 rows x 5 columns]"
      ]
     },
     "execution_count": 201,
     "metadata": {},
     "output_type": "execute_result"
    }
   ],
   "source": [
    "# Import module\n",
    "import os\n",
    "import pandas as pd\n",
    "# Assign directory\n",
    "directory = r\"C:\\Users\\ab991130\\Documents\\GitHub\\Afkhami-Data-Usage\\In_plane_compressions\"\n",
    "df = pd.DataFrame(columns = ['Force','Displacement'])\n",
    "# Iterate over files in directory\n",
    "for path, folders, files in os.walk(directory):\n",
    "    for filename in files:\n",
    "        if filename.endswith('csv'):\n",
    "            with open(os.path.join(directory, filename)) as f:\n",
    "\n",
    "                #Extracting Features from filename\n",
    "                Design = filename[0]\n",
    "                Direction = filename[2]\n",
    "                Displacement_Rate = filename[4:7]\n",
    "\n",
    "                #Creating Temporary DataFrame\n",
    "                tdf = pd.read_csv(filename,skiprows=2)\n",
    "                tdf = tdf.drop(tdf.columns[2], axis=1)\n",
    "                tdf = tdf.drop(tdf.columns[2], axis=1)\n",
    "                tdf.columns=['Force', 'Displacement']\n",
    "\n",
    "                tdf['Design'] = Design\n",
    "                tdf['Direction'] = Direction\n",
    "                tdf['Displacement Rate'] = Displacement_Rate\n",
    "                \n",
    "                df = pd.concat([df, tdf], ignore_index=True)\n",
    "df"
   ]
  },
  {
   "cell_type": "markdown",
   "id": "6675548b-0ef9-4205-b21d-4256972daf0a",
   "metadata": {},
   "source": [
    "## Changing all Cat data to Num for model "
   ]
  },
  {
   "cell_type": "code",
   "execution_count": 202,
   "id": "26a0ce96-b806-43d7-9f5a-af9213b434cb",
   "metadata": {},
   "outputs": [
    {
     "data": {
      "text/html": [
       "<div>\n",
       "<style scoped>\n",
       "    .dataframe tbody tr th:only-of-type {\n",
       "        vertical-align: middle;\n",
       "    }\n",
       "\n",
       "    .dataframe tbody tr th {\n",
       "        vertical-align: top;\n",
       "    }\n",
       "\n",
       "    .dataframe thead th {\n",
       "        text-align: right;\n",
       "    }\n",
       "</style>\n",
       "<table border=\"1\" class=\"dataframe\">\n",
       "  <thead>\n",
       "    <tr style=\"text-align: right;\">\n",
       "      <th></th>\n",
       "      <th>Force</th>\n",
       "      <th>Displacement</th>\n",
       "      <th>Design</th>\n",
       "      <th>Direction</th>\n",
       "      <th>Displacement Rate</th>\n",
       "    </tr>\n",
       "  </thead>\n",
       "  <tbody>\n",
       "    <tr>\n",
       "      <th>0</th>\n",
       "      <td>0.000064</td>\n",
       "      <td>-0.000149</td>\n",
       "      <td>0</td>\n",
       "      <td>0</td>\n",
       "      <td>0.1</td>\n",
       "    </tr>\n",
       "    <tr>\n",
       "      <th>1</th>\n",
       "      <td>-0.000355</td>\n",
       "      <td>-0.000122</td>\n",
       "      <td>0</td>\n",
       "      <td>0</td>\n",
       "      <td>0.1</td>\n",
       "    </tr>\n",
       "    <tr>\n",
       "      <th>2</th>\n",
       "      <td>0.004733</td>\n",
       "      <td>-0.000355</td>\n",
       "      <td>0</td>\n",
       "      <td>0</td>\n",
       "      <td>0.1</td>\n",
       "    </tr>\n",
       "    <tr>\n",
       "      <th>3</th>\n",
       "      <td>-0.001949</td>\n",
       "      <td>-0.000374</td>\n",
       "      <td>0</td>\n",
       "      <td>0</td>\n",
       "      <td>0.1</td>\n",
       "    </tr>\n",
       "    <tr>\n",
       "      <th>4</th>\n",
       "      <td>0.003855</td>\n",
       "      <td>-0.000237</td>\n",
       "      <td>0</td>\n",
       "      <td>0</td>\n",
       "      <td>0.1</td>\n",
       "    </tr>\n",
       "    <tr>\n",
       "      <th>...</th>\n",
       "      <td>...</td>\n",
       "      <td>...</td>\n",
       "      <td>...</td>\n",
       "      <td>...</td>\n",
       "      <td>...</td>\n",
       "    </tr>\n",
       "    <tr>\n",
       "      <th>108737</th>\n",
       "      <td>-190.590100</td>\n",
       "      <td>-26.780952</td>\n",
       "      <td>5</td>\n",
       "      <td>1</td>\n",
       "      <td>1.8</td>\n",
       "    </tr>\n",
       "    <tr>\n",
       "      <th>108738</th>\n",
       "      <td>-190.616900</td>\n",
       "      <td>-26.782848</td>\n",
       "      <td>5</td>\n",
       "      <td>1</td>\n",
       "      <td>1.8</td>\n",
       "    </tr>\n",
       "    <tr>\n",
       "      <th>108739</th>\n",
       "      <td>-190.604340</td>\n",
       "      <td>-26.783546</td>\n",
       "      <td>5</td>\n",
       "      <td>1</td>\n",
       "      <td>1.8</td>\n",
       "    </tr>\n",
       "    <tr>\n",
       "      <th>108740</th>\n",
       "      <td>-190.614870</td>\n",
       "      <td>-26.785297</td>\n",
       "      <td>5</td>\n",
       "      <td>1</td>\n",
       "      <td>1.8</td>\n",
       "    </tr>\n",
       "    <tr>\n",
       "      <th>108741</th>\n",
       "      <td>-190.608400</td>\n",
       "      <td>-26.783356</td>\n",
       "      <td>5</td>\n",
       "      <td>1</td>\n",
       "      <td>1.8</td>\n",
       "    </tr>\n",
       "  </tbody>\n",
       "</table>\n",
       "<p>108742 rows × 5 columns</p>\n",
       "</div>"
      ],
      "text/plain": [
       "             Force  Displacement  Design  Direction Displacement Rate\n",
       "0         0.000064     -0.000149       0          0               0.1\n",
       "1        -0.000355     -0.000122       0          0               0.1\n",
       "2         0.004733     -0.000355       0          0               0.1\n",
       "3        -0.001949     -0.000374       0          0               0.1\n",
       "4         0.003855     -0.000237       0          0               0.1\n",
       "...            ...           ...     ...        ...               ...\n",
       "108737 -190.590100    -26.780952       5          1               1.8\n",
       "108738 -190.616900    -26.782848       5          1               1.8\n",
       "108739 -190.604340    -26.783546       5          1               1.8\n",
       "108740 -190.614870    -26.785297       5          1               1.8\n",
       "108741 -190.608400    -26.783356       5          1               1.8\n",
       "\n",
       "[108742 rows x 5 columns]"
      ]
     },
     "execution_count": 202,
     "metadata": {},
     "output_type": "execute_result"
    }
   ],
   "source": [
    "# Convert categorical data to numerical data using replace\n",
    "df['Design'] = df['Design'].replace({'A': 0, 'B': 1, 'C': 2, 'D': 3, 'E': 4, 'F': 5})\n",
    "df['Direction'] = df['Direction'].replace({'X': 0, 'Y': 1})\n",
    "df"
   ]
  },
  {
   "cell_type": "markdown",
   "id": "7c4f76c9-308a-4a62-b03a-bdd0b16f6071",
   "metadata": {},
   "source": [
    "## Data split"
   ]
  },
  {
   "cell_type": "code",
   "execution_count": 203,
   "id": "0df48039-ff37-4cbf-813e-5f8c3698de27",
   "metadata": {},
   "outputs": [],
   "source": [
    "y = df[\"Displacement\"]\n",
    "X = df.drop(columns = [\"Displacement\"])"
   ]
  },
  {
   "cell_type": "code",
   "execution_count": 204,
   "id": "22c7f884-ce26-45f8-9ddb-5f7407477dee",
   "metadata": {},
   "outputs": [],
   "source": [
    "from sklearn.model_selection import train_test_split\n",
    "\n",
    "X_train, X_test, y_train, y_test = train_test_split(X, y, test_size = 0.2, random_state = 100)"
   ]
  },
  {
   "cell_type": "markdown",
   "id": "6fd8d6f9-099b-4ff4-8bdd-73b3f8eab268",
   "metadata": {},
   "source": [
    "## Model Building"
   ]
  },
  {
   "cell_type": "code",
   "execution_count": 205,
   "id": "39ea8aba-47ad-40bc-bd64-e7c37c1837ef",
   "metadata": {},
   "outputs": [
    {
     "data": {
      "text/html": [
       "<style>#sk-container-id-3 {color: black;background-color: white;}#sk-container-id-3 pre{padding: 0;}#sk-container-id-3 div.sk-toggleable {background-color: white;}#sk-container-id-3 label.sk-toggleable__label {cursor: pointer;display: block;width: 100%;margin-bottom: 0;padding: 0.3em;box-sizing: border-box;text-align: center;}#sk-container-id-3 label.sk-toggleable__label-arrow:before {content: \"▸\";float: left;margin-right: 0.25em;color: #696969;}#sk-container-id-3 label.sk-toggleable__label-arrow:hover:before {color: black;}#sk-container-id-3 div.sk-estimator:hover label.sk-toggleable__label-arrow:before {color: black;}#sk-container-id-3 div.sk-toggleable__content {max-height: 0;max-width: 0;overflow: hidden;text-align: left;background-color: #f0f8ff;}#sk-container-id-3 div.sk-toggleable__content pre {margin: 0.2em;color: black;border-radius: 0.25em;background-color: #f0f8ff;}#sk-container-id-3 input.sk-toggleable__control:checked~div.sk-toggleable__content {max-height: 200px;max-width: 100%;overflow: auto;}#sk-container-id-3 input.sk-toggleable__control:checked~label.sk-toggleable__label-arrow:before {content: \"▾\";}#sk-container-id-3 div.sk-estimator input.sk-toggleable__control:checked~label.sk-toggleable__label {background-color: #d4ebff;}#sk-container-id-3 div.sk-label input.sk-toggleable__control:checked~label.sk-toggleable__label {background-color: #d4ebff;}#sk-container-id-3 input.sk-hidden--visually {border: 0;clip: rect(1px 1px 1px 1px);clip: rect(1px, 1px, 1px, 1px);height: 1px;margin: -1px;overflow: hidden;padding: 0;position: absolute;width: 1px;}#sk-container-id-3 div.sk-estimator {font-family: monospace;background-color: #f0f8ff;border: 1px dotted black;border-radius: 0.25em;box-sizing: border-box;margin-bottom: 0.5em;}#sk-container-id-3 div.sk-estimator:hover {background-color: #d4ebff;}#sk-container-id-3 div.sk-parallel-item::after {content: \"\";width: 100%;border-bottom: 1px solid gray;flex-grow: 1;}#sk-container-id-3 div.sk-label:hover label.sk-toggleable__label {background-color: #d4ebff;}#sk-container-id-3 div.sk-serial::before {content: \"\";position: absolute;border-left: 1px solid gray;box-sizing: border-box;top: 0;bottom: 0;left: 50%;z-index: 0;}#sk-container-id-3 div.sk-serial {display: flex;flex-direction: column;align-items: center;background-color: white;padding-right: 0.2em;padding-left: 0.2em;position: relative;}#sk-container-id-3 div.sk-item {position: relative;z-index: 1;}#sk-container-id-3 div.sk-parallel {display: flex;align-items: stretch;justify-content: center;background-color: white;position: relative;}#sk-container-id-3 div.sk-item::before, #sk-container-id-3 div.sk-parallel-item::before {content: \"\";position: absolute;border-left: 1px solid gray;box-sizing: border-box;top: 0;bottom: 0;left: 50%;z-index: -1;}#sk-container-id-3 div.sk-parallel-item {display: flex;flex-direction: column;z-index: 1;position: relative;background-color: white;}#sk-container-id-3 div.sk-parallel-item:first-child::after {align-self: flex-end;width: 50%;}#sk-container-id-3 div.sk-parallel-item:last-child::after {align-self: flex-start;width: 50%;}#sk-container-id-3 div.sk-parallel-item:only-child::after {width: 0;}#sk-container-id-3 div.sk-dashed-wrapped {border: 1px dashed gray;margin: 0 0.4em 0.5em 0.4em;box-sizing: border-box;padding-bottom: 0.4em;background-color: white;}#sk-container-id-3 div.sk-label label {font-family: monospace;font-weight: bold;display: inline-block;line-height: 1.2em;}#sk-container-id-3 div.sk-label-container {text-align: center;}#sk-container-id-3 div.sk-container {/* jupyter's `normalize.less` sets `[hidden] { display: none; }` but bootstrap.min.css set `[hidden] { display: none !important; }` so we also need the `!important` here to be able to override the default hidden behavior on the sphinx rendered scikit-learn.org. See: https://github.com/scikit-learn/scikit-learn/issues/21755 */display: inline-block !important;position: relative;}#sk-container-id-3 div.sk-text-repr-fallback {display: none;}</style><div id=\"sk-container-id-3\" class=\"sk-top-container\"><div class=\"sk-text-repr-fallback\"><pre>LinearRegression()</pre><b>In a Jupyter environment, please rerun this cell to show the HTML representation or trust the notebook. <br />On GitHub, the HTML representation is unable to render, please try loading this page with nbviewer.org.</b></div><div class=\"sk-container\" hidden><div class=\"sk-item\"><div class=\"sk-estimator sk-toggleable\"><input class=\"sk-toggleable__control sk-hidden--visually\" id=\"sk-estimator-id-3\" type=\"checkbox\" checked><label for=\"sk-estimator-id-3\" class=\"sk-toggleable__label sk-toggleable__label-arrow\">LinearRegression</label><div class=\"sk-toggleable__content\"><pre>LinearRegression()</pre></div></div></div></div></div>"
      ],
      "text/plain": [
       "LinearRegression()"
      ]
     },
     "execution_count": 205,
     "metadata": {},
     "output_type": "execute_result"
    }
   ],
   "source": [
    "from sklearn.linear_model import LinearRegression\n",
    "\n",
    "lr = LinearRegression()\n",
    "lr.fit(X_train, y_train)"
   ]
  },
  {
   "cell_type": "code",
   "execution_count": 206,
   "id": "29dc72eb-a305-467f-abff-a382b7d75143",
   "metadata": {},
   "outputs": [],
   "source": [
    "y_lr_train_pred = lr.predict(X_train)\n",
    "y_lr_test_pred = lr.predict(X_test)"
   ]
  },
  {
   "cell_type": "code",
   "execution_count": 207,
   "id": "e0bdf378-9168-4c7b-a0ec-2b07366cc6fb",
   "metadata": {},
   "outputs": [],
   "source": [
    "from sklearn.metrics import mean_squared_error, r2_score\n",
    "\n",
    "lr_train_mse = mean_squared_error(y_train, y_lr_train_pred)\n",
    "lr_train_r2 = r2_score(y_train, y_lr_train_pred)\n",
    "\n",
    "lr_test_mse = mean_squared_error(y_test, y_lr_test_pred)\n",
    "lr_test_r2 = r2_score(y_test, y_lr_test_pred)"
   ]
  },
  {
   "cell_type": "code",
   "execution_count": 208,
   "id": "cac0570e-e0d8-439e-b921-0f73efdd91e0",
   "metadata": {},
   "outputs": [
    {
     "name": "stdout",
     "output_type": "stream",
     "text": [
      "LR MSE (Train):  83.68264197674198\n",
      "LR R2 (Train):  0.35372139741899744\n",
      "LR MSE (Test):  83.30094230675422\n",
      "LR MSE (Test):  0.3598271562803319\n"
     ]
    }
   ],
   "source": [
    "print('LR MSE (Train): ' , lr_train_mse)\n",
    "print('LR R2 (Train): ' , lr_train_r2)\n",
    "print('LR MSE (Test): ' , lr_test_mse)\n",
    "print('LR MSE (Test): ' , lr_test_r2)"
   ]
  },
  {
   "cell_type": "code",
   "execution_count": 210,
   "id": "affc51a2-bb9a-45aa-9a19-65ca8ff7c792",
   "metadata": {},
   "outputs": [
    {
     "data": {
      "text/plain": [
       "Text(0.5, 0, 'Experimental Displacement')"
      ]
     },
     "execution_count": 210,
     "metadata": {},
     "output_type": "execute_result"
    },
    {
     "data": {
      "image/png": "[encoded data removed]",
      "text/plain": [
       "<Figure size 500x500 with 1 Axes>"
      ]
     },
     "metadata": {},
     "output_type": "display_data"
    }
   ],
   "source": [
    "import matplotlib.pyplot as plt\n",
    "import numpy as np\n",
    "\n",
    "plt.figure(figsize = (5,5))\n",
    "plt.scatter(x=y_train, y=y_lr_train_pred, alpha=0.1)\n",
    "\n",
    "z = np.polyfit(y_train, y_lr_train_pred,  1)\n",
    "p = np.poly1d(z)\n",
    "\n",
    "plt.plot(y_train, p(y_train), '#F8766D')\n",
    "plt.ylabel('Predicted Displacement')\n",
    "plt.xlabel('Experimental Displacement')"
   ]
  },
  {
   "cell_type": "markdown",
   "id": "195e13cb-3f3d-4c71-9196-b8d2dcd4fadb",
   "metadata": {},
   "source": [
    "# Notes:\n",
    "\n",
    "I think the main issue as to why the data is so messy, is that the force and displacement is encoded, and I have yet to figuer out how to get the original numbers"
   ]
  }
 ],
 "metadata": {
  "kernelspec": {
   "display_name": "Python 3 (ipykernel)",
   "language": "python",
   "name": "python3"
  },
  "language_info": {
   "codemirror_mode": {
    "name": "ipython",
    "version": 3
   },
   "file_extension": ".py",
   "mimetype": "text/x-python",
   "name": "python",
   "nbconvert_exporter": "python",
   "pygments_lexer": "ipython3",
   "version": "3.11.7"
  }
 },
 "nbformat": 4,
 "nbformat_minor": 5
}
